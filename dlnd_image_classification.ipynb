{
 "cells": [
  {
   "cell_type": "markdown",
   "metadata": {
    "collapsed": true,
    "deletable": true,
    "editable": true
   },
   "source": [
    "# Image Classification\n",
    "In this project, you'll classify images from the [CIFAR-10 dataset](https://www.cs.toronto.edu/~kriz/cifar.html).  The dataset consists of airplanes, dogs, cats, and other objects. You'll preprocess the images, then train a convolutional neural network on all the samples. The images need to be normalized and the labels need to be one-hot encoded.  You'll get to apply what you learned and build a convolutional, max pooling, dropout, and fully connected layers.  At the end, you'll get to see your neural network's predictions on the sample images.\n",
    "## Get the Data\n",
    "Run the following cell to download the [CIFAR-10 dataset for python](https://www.cs.toronto.edu/~kriz/cifar-10-python.tar.gz)."
   ]
  },
  {
   "cell_type": "code",
   "execution_count": 1,
   "metadata": {
    "collapsed": false,
    "deletable": true,
    "editable": true
   },
   "outputs": [
    {
     "name": "stderr",
     "output_type": "stream",
     "text": [
      "CIFAR-10 Dataset: 171MB [01:45, 1.62MB/s]                              \n"
     ]
    },
    {
     "name": "stdout",
     "output_type": "stream",
     "text": [
      "All files found!\n"
     ]
    }
   ],
   "source": [
    "\"\"\"\n",
    "DON'T MODIFY ANYTHING IN THIS CELL THAT IS BELOW THIS LINE\n",
    "\"\"\"\n",
    "from urllib.request import urlretrieve\n",
    "from os.path import isfile, isdir\n",
    "from tqdm import tqdm\n",
    "import problem_unittests as tests\n",
    "import tarfile\n",
    "\n",
    "cifar10_dataset_folder_path = 'cifar-10-batches-py'\n",
    "\n",
    "class DLProgress(tqdm):\n",
    "    last_block = 0\n",
    "\n",
    "    def hook(self, block_num=1, block_size=1, total_size=None):\n",
    "        self.total = total_size\n",
    "        self.update((block_num - self.last_block) * block_size)\n",
    "        self.last_block = block_num\n",
    "\n",
    "if not isfile('cifar-10-python.tar.gz'):\n",
    "    with DLProgress(unit='B', unit_scale=True, miniters=1, desc='CIFAR-10 Dataset') as pbar:\n",
    "        urlretrieve(\n",
    "            'https://www.cs.toronto.edu/~kriz/cifar-10-python.tar.gz',\n",
    "            'cifar-10-python.tar.gz',\n",
    "            pbar.hook)\n",
    "\n",
    "if not isdir(cifar10_dataset_folder_path):\n",
    "    with tarfile.open('cifar-10-python.tar.gz') as tar:\n",
    "        tar.extractall()\n",
    "        tar.close()\n",
    "\n",
    "\n",
    "tests.test_folder_path(cifar10_dataset_folder_path)"
   ]
  },
  {
   "cell_type": "markdown",
   "metadata": {
    "deletable": true,
    "editable": true
   },
   "source": [
    "## Explore the Data\n",
    "The dataset is broken into batches to prevent your machine from running out of memory.  The CIFAR-10 dataset consists of 5 batches, named `data_batch_1`, `data_batch_2`, etc.. Each batch contains the labels and images that are one of the following:\n",
    "* airplane\n",
    "* automobile\n",
    "* bird\n",
    "* cat\n",
    "* deer\n",
    "* dog\n",
    "* frog\n",
    "* horse\n",
    "* ship\n",
    "* truck\n",
    "\n",
    "Understanding a dataset is part of making predictions on the data.  Play around with the code cell below by changing the `batch_id` and `sample_id`. The `batch_id` is the id for a batch (1-5). The `sample_id` is the id for a image and label pair in the batch.\n",
    "\n",
    "Ask yourself \"What are all possible labels?\", \"What is the range of values for the image data?\", \"Are the labels in order or random?\".  Answers to questions like these will help you preprocess the data and end up with better predictions."
   ]
  },
  {
   "cell_type": "code",
   "execution_count": 2,
   "metadata": {
    "collapsed": false,
    "deletable": true,
    "editable": true
   },
   "outputs": [
    {
     "name": "stdout",
     "output_type": "stream",
     "text": [
      "\n",
      "Stats of batch 4:\n",
      "Samples: 10000\n",
      "Label Counts: {0: 1003, 1: 963, 2: 1041, 3: 976, 4: 1004, 5: 1021, 6: 1004, 7: 981, 8: 1024, 9: 983}\n",
      "First 20 Labels: [0, 6, 0, 2, 7, 2, 1, 2, 4, 1, 5, 6, 6, 3, 1, 3, 5, 5, 8, 1]\n",
      "\n",
      "Example of Image 9999:\n",
      "Image - Min Value: 0 Max Value: 255\n",
      "Image - Shape: (32, 32, 3)\n",
      "Label - Label Id: 8 Name: ship\n"
     ]
    },
    {
     "data": {
      "image/png": "[encoded data removed]",
      "text/plain": [
       "<matplotlib.figure.Figure at 0x7f06b280d390>"
      ]
     },
     "metadata": {
      "image/png": {
       "height": 250,
       "width": 253
      }
     },
     "output_type": "display_data"
    }
   ],
   "source": [
    "%matplotlib inline\n",
    "%config InlineBackend.figure_format = 'retina'\n",
    "\n",
    "import helper\n",
    "import numpy as np\n",
    "\n",
    "# Explore the dataset\n",
    "batch_id = 4\n",
    "sample_id = 9999\n",
    "helper.display_stats(cifar10_dataset_folder_path, batch_id, sample_id)"
   ]
  },
  {
   "cell_type": "markdown",
   "metadata": {
    "deletable": true,
    "editable": true
   },
   "source": [
    "## Implement Preprocess Functions\n",
    "### Normalize\n",
    "In the cell below, implement the `normalize` function to take in image data, `x`, and return it as a normalized Numpy array. The values should be in the range of 0 to 1, inclusive.  The return object should be the same shape as `x`."
   ]
  },
  {
   "cell_type": "code",
   "execution_count": 3,
   "metadata": {
    "collapsed": false,
    "deletable": true,
    "editable": true
   },
   "outputs": [
    {
     "name": "stdout",
     "output_type": "stream",
     "text": [
      "Tests Passed\n"
     ]
    }
   ],
   "source": [
    "def normalize(x):\n",
    "    \"\"\"\n",
    "    Normalize a list of sample image data in the range of 0 to 1\n",
    "    : x: List of image data.  The image shape is (32, 32, 3)\n",
    "    : return: Numpy array of normalize data\n",
    "    \"\"\"\n",
    "    # TODO: Implement Function\n",
    "    a = 0\n",
    "    b = 1\n",
    "    grayscale_min = 0\n",
    "    grayscale_max = 255\n",
    "    return a + ( ( (x - grayscale_min)*(b - a) )/( grayscale_max - grayscale_min ) )\n",
    "\n",
    "\n",
    "\"\"\"\n",
    "DON'T MODIFY ANYTHING IN THIS CELL THAT IS BELOW THIS LINE\n",
    "\"\"\"\n",
    "tests.test_normalize(normalize)"
   ]
  },
  {
   "cell_type": "markdown",
   "metadata": {
    "deletable": true,
    "editable": true
   },
   "source": [
    "### One-hot encode\n",
    "Just like the previous code cell, you'll be implementing a function for preprocessing.  This time, you'll implement the `one_hot_encode` function. The input, `x`, are a list of labels.  Implement the function to return the list of labels as One-Hot encoded Numpy array.  The possible values for labels are 0 to 9. The one-hot encoding function should return the same encoding for each value between each call to `one_hot_encode`.  Make sure to save the map of encodings outside the function.\n",
    "\n",
    "Hint: Don't reinvent the wheel."
   ]
  },
  {
   "cell_type": "code",
   "execution_count": 4,
   "metadata": {
    "collapsed": false,
    "deletable": true,
    "editable": true
   },
   "outputs": [
    {
     "name": "stdout",
     "output_type": "stream",
     "text": [
      "Tests Passed\n"
     ]
    }
   ],
   "source": [
    "def one_hot_encode(x):\n",
    "    \"\"\"\n",
    "    One hot encode a list of sample labels. Return a one-hot encoded vector for each label.\n",
    "    : x: List of sample Labels\n",
    "    : return: Numpy array of one-hot encoded labels\n",
    "    \"\"\"\n",
    "    # TODO: Implement Function\n",
    "    y = np.zeros((len(x), 10))\n",
    "    for i in range(len(x)):\n",
    "        y[i,x[i]] = 1\n",
    "    return y\n",
    "\n",
    "\n",
    "\"\"\"\n",
    "DON'T MODIFY ANYTHING IN THIS CELL THAT IS BELOW THIS LINE\n",
    "\"\"\"\n",
    "tests.test_one_hot_encode(one_hot_encode)"
   ]
  },
  {
   "cell_type": "markdown",
   "metadata": {
    "deletable": true,
    "editable": true
   },
   "source": [
    "### Randomize Data\n",
    "As you saw from exploring the data above, the order of the samples are randomized.  It doesn't hurt to randomize it again, but you don't need to for this dataset."
   ]
  },
  {
   "cell_type": "markdown",
   "metadata": {
    "deletable": true,
    "editable": true
   },
   "source": [
    "## Preprocess all the data and save it\n",
    "Running the code cell below will preprocess all the CIFAR-10 data and save it to file. The code below also uses 10% of the training data for validation."
   ]
  },
  {
   "cell_type": "code",
   "execution_count": 5,
   "metadata": {
    "collapsed": false,
    "deletable": true,
    "editable": true
   },
   "outputs": [],
   "source": [
    "\"\"\"\n",
    "DON'T MODIFY ANYTHING IN THIS CELL\n",
    "\"\"\"\n",
    "# Preprocess Training, Validation, and Testing Data\n",
    "helper.preprocess_and_save_data(cifar10_dataset_folder_path, normalize, one_hot_encode)"
   ]
  },
  {
   "cell_type": "markdown",
   "metadata": {
    "deletable": true,
    "editable": true
   },
   "source": [
    "# Check Point\n",
    "This is your first checkpoint.  If you ever decide to come back to this notebook or have to restart the notebook, you can start from here.  The preprocessed data has been saved to disk."
   ]
  },
  {
   "cell_type": "code",
   "execution_count": 6,
   "metadata": {
    "collapsed": true,
    "deletable": true,
    "editable": true
   },
   "outputs": [],
   "source": [
    "\"\"\"\n",
    "DON'T MODIFY ANYTHING IN THIS CELL\n",
    "\"\"\"\n",
    "import pickle\n",
    "import problem_unittests as tests\n",
    "import helper\n",
    "\n",
    "# Load the Preprocessed Validation data\n",
    "valid_features, valid_labels = pickle.load(open('preprocess_validation.p', mode='rb'))"
   ]
  },
  {
   "cell_type": "markdown",
   "metadata": {
    "deletable": true,
    "editable": true
   },
   "source": [
    "## Build the network\n",
    "For the neural network, you'll build each layer into a function.  Most of the code you've seen has been outside of functions. To test your code more thoroughly, we require that you put each layer in a function.  This allows us to give you better feedback and test for simple mistakes using our unittests before you submit your project.\n",
    "\n",
    ">**Note:** If you're finding it hard to dedicate enough time for this course each week, we've provided a small shortcut to this part of the project. In the next couple of problems, you'll have the option to use classes from the [TensorFlow Layers](https://www.tensorflow.org/api_docs/python/tf/layers) or [TensorFlow Layers (contrib)](https://www.tensorflow.org/api_guides/python/contrib.layers) packages to build each layer, except the layers you build in the \"Convolutional and Max Pooling Layer\" section.  TF Layers is similar to Keras's and TFLearn's abstraction to layers, so it's easy to pickup.\n",
    "\n",
    ">However, if you would like to get the most out of this course, try to solve all the problems _without_ using anything from the TF Layers packages. You **can** still use classes from other packages that happen to have the same name as ones you find in TF Layers! For example, instead of using the TF Layers version of the `conv2d` class, [tf.layers.conv2d](https://www.tensorflow.org/api_docs/python/tf/layers/conv2d), you would want to use the TF Neural Network version of `conv2d`, [tf.nn.conv2d](https://www.tensorflow.org/api_docs/python/tf/nn/conv2d). \n",
    "\n",
    "Let's begin!\n",
    "\n",
    "### Input\n",
    "The neural network needs to read the image data, one-hot encoded labels, and dropout keep probability. Implement the following functions\n",
    "* Implement `neural_net_image_input`\n",
    " * Return a [TF Placeholder](https://www.tensorflow.org/api_docs/python/tf/placeholder)\n",
    " * Set the shape using `image_shape` with batch size set to `None`.\n",
    " * Name the TensorFlow placeholder \"x\" using the TensorFlow `name` parameter in the [TF Placeholder](https://www.tensorflow.org/api_docs/python/tf/placeholder).\n",
    "* Implement `neural_net_label_input`\n",
    " * Return a [TF Placeholder](https://www.tensorflow.org/api_docs/python/tf/placeholder)\n",
    " * Set the shape using `n_classes` with batch size set to `None`.\n",
    " * Name the TensorFlow placeholder \"y\" using the TensorFlow `name` parameter in the [TF Placeholder](https://www.tensorflow.org/api_docs/python/tf/placeholder).\n",
    "* Implement `neural_net_keep_prob_input`\n",
    " * Return a [TF Placeholder](https://www.tensorflow.org/api_docs/python/tf/placeholder) for dropout keep probability.\n",
    " * Name the TensorFlow placeholder \"keep_prob\" using the TensorFlow `name` parameter in the [TF Placeholder](https://www.tensorflow.org/api_docs/python/tf/placeholder).\n",
    "\n",
    "These names will be used at the end of the project to load your saved model.\n",
    "\n",
    "Note: `None` for shapes in TensorFlow allow for a dynamic size."
   ]
  },
  {
   "cell_type": "code",
   "execution_count": 7,
   "metadata": {
    "collapsed": false,
    "deletable": true,
    "editable": true
   },
   "outputs": [
    {
     "name": "stdout",
     "output_type": "stream",
     "text": [
      "Image Input Tests Passed.\n",
      "Label Input Tests Passed.\n",
      "Keep Prob Tests Passed.\n"
     ]
    }
   ],
   "source": [
    "import tensorflow as tf\n",
    "\n",
    "def neural_net_image_input(image_shape):\n",
    "    \"\"\"\n",
    "    Return a Tensor for a bach of image input\n",
    "    : image_shape: Shape of the images\n",
    "    : return: Tensor for image input.\n",
    "    \"\"\"\n",
    "    # TODO: Implement Function\n",
    "    # tf.placeholder(dtype, shape=None, name=None)\n",
    "    s = [None] + list(image_shape)\n",
    "    return tf.placeholder(tf.float32, shape=s, name='x')\n",
    "\"\"\"\n",
    "Notes:\n",
    "image_shape is a tuple(32,32,3).\n",
    "So currently in the following part,\n",
    "\n",
    "shape = [None, image_shape]\n",
    "you are actually doing this, and this is why you got the error.\n",
    "\n",
    "shape = [None, (32, 32, 3)]\n",
    "Instead, you want to change like following.\n",
    "\n",
    "shape = [None, 32, 32, 3]\n",
    "How can you fix this?\n",
    "\n",
    "Hint: [None] + list(tuple)\n",
    "Here are my suggestions and hints.\n",
    "Please use list concatenation( e.g. [1] + [2, 3, 4] will become [1, 2, 3, 4])\n",
    "Hint 1: image_shape is tuple of (32, 32, 3)\n",
    "Hint 2: Try [None] + list(tuple)\n",
    "\n",
    "I ended up using individual indecies: (None, tuple[0], tuple[1], tuple[2])\n",
    "\n",
    "You can also do it this way :\n",
    "tf.placeholder(tf.float32, shape = [None, *image_shape], name = \"x\")\n",
    "The * operator unpacks the tuple.\n",
    "\"\"\"\n",
    "\n",
    "def neural_net_label_input(n_classes):\n",
    "    \"\"\"\n",
    "    Return a Tensor for a batch of label input\n",
    "    : n_classes: Number of classes\n",
    "    : return: Tensor for label input.\n",
    "    \"\"\"\n",
    "    # TODO: Implement Function\n",
    "    # tf.placeholder(dtype, shape=None, name=None)\n",
    "    return tf.placeholder(tf.float32, shape=[None, n_classes], name='y')\n",
    "\n",
    "\n",
    "def neural_net_keep_prob_input():\n",
    "    \"\"\"\n",
    "    Return a Tensor for keep probability\n",
    "    : return: Tensor for keep probability.\n",
    "    \"\"\"\n",
    "    # TODO: Implement Function\n",
    "    return tf.placeholder(tf.float32,name=\"keep_prob\") # dropout (keep probability)\n",
    "\n",
    "\n",
    "\"\"\"\n",
    "DON'T MODIFY ANYTHING IN THIS CELL THAT IS BELOW THIS LINE\n",
    "\"\"\"\n",
    "tf.reset_default_graph()\n",
    "tests.test_nn_image_inputs(neural_net_image_input)\n",
    "tests.test_nn_label_inputs(neural_net_label_input)\n",
    "tests.test_nn_keep_prob_inputs(neural_net_keep_prob_input)"
   ]
  },
  {
   "cell_type": "markdown",
   "metadata": {
    "deletable": true,
    "editable": true
   },
   "source": [
    "### Convolution and Max Pooling Layer\n",
    "Convolution layers have a lot of success with images. For this code cell, you should implement the function `conv2d_maxpool` to apply convolution then max pooling:\n",
    "* Create the weight and bias using `conv_ksize`, `conv_num_outputs` and the shape of `x_tensor`.\n",
    "* Apply a convolution to `x_tensor` using weight and `conv_strides`.\n",
    " * We recommend you use same padding, but you're welcome to use any padding.\n",
    "* Add bias\n",
    "* Add a nonlinear activation to the convolution.\n",
    "* Apply Max Pooling using `pool_ksize` and `pool_strides`.\n",
    " * We recommend you use same padding, but you're welcome to use any padding.\n",
    "\n",
    "**Note:** You **can't** use [TensorFlow Layers](https://www.tensorflow.org/api_docs/python/tf/layers) or [TensorFlow Layers (contrib)](https://www.tensorflow.org/api_guides/python/contrib.layers) for **this** layer, but you can still use TensorFlow's [Neural Network](https://www.tensorflow.org/api_docs/python/tf/nn) package. You may still use the shortcut option for all the **other** layers."
   ]
  },
  {
   "cell_type": "code",
   "execution_count": 80,
   "metadata": {
    "collapsed": false,
    "deletable": true,
    "editable": true
   },
   "outputs": [
    {
     "name": "stdout",
     "output_type": "stream",
     "text": [
      "Tests Passed\n"
     ]
    }
   ],
   "source": [
    "def conv2d_maxpool(x_tensor, conv_num_outputs, conv_ksize, conv_strides, pool_ksize, pool_strides):\n",
    "    \"\"\"\n",
    "    Apply convolution then max pooling to x_tensor\n",
    "    :param x_tensor: TensorFlow Tensor\n",
    "    :param conv_num_outputs: Number of outputs for the convolutional layer\n",
    "    :param conv_ksize: kernal size 2-D Tuple for the convolutional layer\n",
    "    :param conv_strides: Stride 2-D Tuple for convolution\n",
    "    :param pool_ksize: kernal size 2-D Tuple for pool\n",
    "    :param pool_strides: Stride 2-D Tuple for pool\n",
    "    : return: A tensor that represents convolution and max pooling of x_tensor\n",
    "    \"\"\"\n",
    "    # tf.truncated_normal(shape, mean=0.0, stddev=1.0, dtype=tf.float32, seed=None, name=None)\n",
    "    # TODO: Implement Function\n",
    "    # Create the weight and bias using conv_ksize, conv_num_outputs and the shape of x_tensor.\n",
    "    weight = tf.Variable(tf.truncated_normal([conv_ksize[0],    # height\n",
    "                                     conv_ksize[1],             # width\n",
    "                                     x_tensor.get_shape().as_list()[-1],   # input_depth\n",
    "                                     conv_num_outputs,], # output_depth\n",
    "                                     mean=0.0,\n",
    "                                     stddev=0.1,\n",
    "                                     dtype=tf.float32, \n",
    "                                     seed=None,\n",
    "                                     name=None))   \n",
    "    \n",
    "    bias = tf.Variable(tf.zeros(conv_num_outputs)) # use number of outputs for the conv layer\n",
    "    \n",
    "    # conv_strides (batch, height, width, depth)\n",
    "    # set batch = 1 and depth = 1 (first and last positions should be 1s)\n",
    "    \n",
    "    # Apply a convolution to x_tensor using weight and conv_strides.\n",
    "    # We recommend you use same padding, but you're welcome to use any padding.\n",
    "    conv_layer0 = tf.nn.conv2d(x_tensor, \n",
    "                               weight, \n",
    "                               strides=[1, conv_strides[0], conv_strides[1], 1], \n",
    "                               padding='SAME')\n",
    "    \n",
    "    # Add bias\n",
    "    conv_layer1 = tf.nn.bias_add(conv_layer0, bias)\n",
    "    \n",
    "    # Apply activation function\n",
    "    # A non-linear function, the ReLU or rectified linear unit. \n",
    "    # The ReLU function is 0 for negative inputs and x for all inputs x>0. \n",
    "    conv_layer2 = tf.nn.relu(conv_layer1)\n",
    "    \n",
    "    # Apply Max Pooling using pool_ksize and pool_strides.\n",
    "    conv_layer3 = tf.nn.max_pool(conv_layer2, \n",
    "                                 ksize=[1, pool_ksize[0], pool_ksize[1], 1], \n",
    "                                 strides=[1,pool_strides[0],pool_strides[1],1], \n",
    "                                 padding='SAME')\n",
    "\n",
    "    return conv_layer3 \n",
    "\n",
    "\n",
    "\"\"\"\n",
    "DON'T MODIFY ANYTHING IN THIS CELL THAT IS BELOW THIS LINE\n",
    "\"\"\"\n",
    "tests.test_con_pool(conv2d_maxpool)"
   ]
  },
  {
   "cell_type": "markdown",
   "metadata": {
    "deletable": true,
    "editable": true
   },
   "source": [
    "### Flatten Layer\n",
    "Implement the `flatten` function to change the dimension of `x_tensor` from a 4-D tensor to a 2-D tensor.  The output should be the shape (*Batch Size*, *Flattened Image Size*). Shortcut option: you can use classes from the [TensorFlow Layers](https://www.tensorflow.org/api_docs/python/tf/layers) or [TensorFlow Layers (contrib)](https://www.tensorflow.org/api_guides/python/contrib.layers) packages for this layer. For more of a challenge, only use other TensorFlow packages."
   ]
  },
  {
   "cell_type": "code",
   "execution_count": 62,
   "metadata": {
    "collapsed": false,
    "deletable": true,
    "editable": true
   },
   "outputs": [
    {
     "name": "stdout",
     "output_type": "stream",
     "text": [
      "(?, 10, 30, 6)\n",
      "Tests Passed\n"
     ]
    }
   ],
   "source": [
    "def flatten(x_tensor):\n",
    "    \"\"\"\n",
    "    Flatten x_tensor to (Batch Size, Flattened Image Size)\n",
    "    : x_tensor: A tensor of size (Batch Size, ...), where ... are the image dimensions.\n",
    "    : return: A tensor of size (Batch Size, Flattened Image Size).\n",
    "    \"\"\"\n",
    "    # TODO: Implement Function\n",
    "    # tf.contrib.layers.flatten(*args, **kwargs)\n",
    "    batch_size = -1\n",
    "    width = x_tensor.get_shape().as_list()[1]\n",
    "    height= x_tensor.get_shape().as_list()[2]\n",
    "    depth = x_tensor.get_shape().as_list()[3]\n",
    "    \n",
    "    print(x_tensor.get_shape()[:])\n",
    "    image_flat_size = width*height*depth\n",
    "    return tf.reshape(x_tensor, [batch_size, image_flat_size])\n",
    "\"\"\"\n",
    "Flatten is an operation as name implies should contain single array as output combining all other dimensions. \n",
    "For example if input is [W,H,D] then it would become [W*H*D]. Since batch size indicate the current samples \n",
    "that are proceed, it should remain intact. I.e. for every sample, there should be feature vector.\n",
    "\n",
    "Now based on above explanation, we know that if input shape is [batch_size, W, H, D] then output should be \n",
    "[batch_size, W*H*D]. In order to achieve this you can use tf.reshape. Here [-1, W*H*D] means \n",
    "[first_dimension, second_dimension]. Having -1 in the expression means that code will automatically \n",
    "calculate the value based on the available dimension. To explain in depth, tf knows that dimension is \n",
    "[batch_size*W*H*D] and in that [W*H*D] is specified, so it calculates the value and kept it where -1 is. \n",
    "Finally [-1, W*H*D] is nothing but [batch_size, W*H*D]\n",
    "\n",
    "\"\"\"\n",
    "\n",
    "\n",
    "\"\"\"\n",
    "DON'T MODIFY ANYTHING IN THIS CELL THAT IS BELOW THIS LINE\n",
    "\"\"\"\n",
    "tests.test_flatten(flatten)"
   ]
  },
  {
   "cell_type": "markdown",
   "metadata": {
    "deletable": true,
    "editable": true
   },
   "source": [
    "### Fully-Connected Layer\n",
    "Implement the `fully_conn` function to apply a fully connected layer to `x_tensor` with the shape (*Batch Size*, *num_outputs*). Shortcut option: you can use classes from the [TensorFlow Layers](https://www.tensorflow.org/api_docs/python/tf/layers) or [TensorFlow Layers (contrib)](https://www.tensorflow.org/api_guides/python/contrib.layers) packages for this layer. For more of a challenge, only use other TensorFlow packages."
   ]
  },
  {
   "cell_type": "code",
   "execution_count": 81,
   "metadata": {
    "collapsed": false,
    "deletable": true,
    "editable": true
   },
   "outputs": [
    {
     "name": "stdout",
     "output_type": "stream",
     "text": [
      "Tests Passed\n"
     ]
    }
   ],
   "source": [
    "def fully_conn(x_tensor, num_outputs):\n",
    "    \"\"\"\n",
    "    Apply a fully connected layer to x_tensor using weight and bias\n",
    "    : x_tensor: A 2-D tensor where the first dimension is batch size.\n",
    "    : num_outputs: The number of output that the new tensor should be.\n",
    "    : return: A 2-D tensor where the second dimension is num_outputs.\n",
    "    \"\"\"\n",
    "    # TODO: Implement Function\n",
    "    weights = tf.Variable(tf.truncated_normal((x_tensor.get_shape().as_list()[1], num_outputs)))\n",
    "    biases = tf.Variable(tf.zeros(num_outputs))\n",
    "    layer = tf.add(tf.matmul(x_tensor, weights), biases)\n",
    "    layer1 = tf.nn.tanh(layer)\n",
    "    \n",
    "    return layer1\n",
    "\n",
    "# alternate:\n",
    "# return = tf.layers.dense(inputs=x_tensor, unit= num_outputs, activation=tf.nn.relu)\n",
    "\n",
    "\n",
    "\"\"\"\n",
    "DON'T MODIFY ANYTHING IN THIS CELL THAT IS BELOW THIS LINE\n",
    "\"\"\"\n",
    "tests.test_fully_conn(fully_conn)"
   ]
  },
  {
   "cell_type": "markdown",
   "metadata": {
    "deletable": true,
    "editable": true
   },
   "source": [
    "### Output Layer\n",
    "Implement the `output` function to apply a fully connected layer to `x_tensor` with the shape (*Batch Size*, *num_outputs*). Shortcut option: you can use classes from the [TensorFlow Layers](https://www.tensorflow.org/api_docs/python/tf/layers) or [TensorFlow Layers (contrib)](https://www.tensorflow.org/api_guides/python/contrib.layers) packages for this layer. For more of a challenge, only use other TensorFlow packages.\n",
    "\n",
    "**Note:** Activation, softmax, or cross entropy should **not** be applied to this."
   ]
  },
  {
   "cell_type": "code",
   "execution_count": 82,
   "metadata": {
    "collapsed": false,
    "deletable": true,
    "editable": true
   },
   "outputs": [
    {
     "name": "stdout",
     "output_type": "stream",
     "text": [
      "Tests Passed\n"
     ]
    }
   ],
   "source": [
    "def output(x_tensor, num_outputs):\n",
    "    \"\"\"\n",
    "    Apply a output layer to x_tensor using weight and bias\n",
    "    : x_tensor: A 2-D tensor where the first dimension is batch size.\n",
    "    : num_outputs: The number of output that the new tensor should be.\n",
    "    : return: A 2-D tensor where the second dimension is num_outputs.\n",
    "    \"\"\"\n",
    "    # TODO: Implement Function\n",
    "    # Output Layer - class prediction \n",
    "    weights = tf.Variable(tf.truncated_normal((x_tensor.get_shape().as_list()[1], num_outputs)))\n",
    "    biases = tf.Variable(tf.zeros(num_outputs))\n",
    "    out = tf.add(tf.matmul(x_tensor, weights), biases)\n",
    "    return out\n",
    "\n",
    "\n",
    "\"\"\"\n",
    "DON'T MODIFY ANYTHING IN THIS CELL THAT IS BELOW THIS LINE\n",
    "\"\"\"\n",
    "tests.test_output(output)"
   ]
  },
  {
   "cell_type": "markdown",
   "metadata": {
    "deletable": true,
    "editable": true
   },
   "source": [
    "### Create Convolutional Model\n",
    "Implement the function `conv_net` to create a convolutional neural network model. The function takes in a batch of images, `x`, and outputs logits.  Use the layers you created above to create this model:\n",
    "\n",
    "* Apply 1, 2, or 3 Convolution and Max Pool layers\n",
    "* Apply a Flatten Layer\n",
    "* Apply 1, 2, or 3 Fully Connected Layers\n",
    "* Apply an Output Layer\n",
    "* Return the output\n",
    "* Apply [TensorFlow's Dropout](https://www.tensorflow.org/api_docs/python/tf/nn/dropout) to one or more layers in the model using `keep_prob`. "
   ]
  },
  {
   "cell_type": "code",
   "execution_count": 106,
   "metadata": {
    "collapsed": false,
    "deletable": true,
    "editable": true
   },
   "outputs": [
    {
     "name": "stdout",
     "output_type": "stream",
     "text": [
      "(?, 1, 1, 64)\n",
      "(?, 1, 1, 64)\n",
      "Neural Network Built!\n"
     ]
    }
   ],
   "source": [
    "def conv_net(x, keep_prob):\n",
    "    \"\"\"\n",
    "    Create a convolutional neural network model\n",
    "    : x: Placeholder tensor that holds image data.\n",
    "    : keep_prob: Placeholder tensor that hold dropout keep probability.\n",
    "    : return: Tensor that represents logits\n",
    "    \"\"\"\n",
    "    # TODO: Apply 1, 2, or 3 Convolution and Max Pool layers\n",
    "    #    Play around with different number of outputs, kernel size and stride\n",
    "    # Function Definition from Above:\n",
    "    \n",
    "    x_tensor = x\n",
    "    conv_num_outputs = 64 # 64\n",
    "    conv_ksize = (5, 5)\n",
    "    conv_strides = (2, 2)\n",
    "    pool_ksize = (4, 4) # (3, 3)\n",
    "    pool_strides = (2, 2)\n",
    "    num_outputs = 10\n",
    "    \n",
    "    \"\"\"\n",
    "    Tensorflow does the following for 'SAME' padding:\n",
    "    out_height = ceil( float(in_height) / float(strides[0]) )\n",
    "    out_width = ceil( float(in_width) / float(strides[1]) )\n",
    "    After the convolution: height & width = 16 = 32 / 2\n",
    "    After the pooling: height & width = 8 = 16 / 2\n",
    "    \n",
    "    It's not that Tensorflow is behaving differently, it's what Tensorflow has chosen to mean by 'SAME padding'.\n",
    "    If the lesson formula is\n",
    "    out = 1 + ( in - conv_ksize + 2P) / stride\n",
    "    then\n",
    "    16 = 1 + ( 32 - 5 + 2P) / 2\n",
    "    and so 2P = 3\n",
    "    i.e. Tensorflow has defined 'SAME padding' as 'make the output size equal to the input size / strides'. Given the output, input and conv_ksize it calculates the padding (P) required to satisfy the definition. Since the total padding needed is an odd number in this case it must have also have a rule on whether to pad more to the right/left, top/bottom\n",
    "    \"\"\"\n",
    "    \n",
    "    # Layer 1\n",
    "    #    conv2d_maxpool(x_tensor, conv_num_outputs, conv_ksize, conv_strides, pool_ksize, pool_strides)\n",
    "    conv2d_layer = conv2d_maxpool(x_tensor, conv_num_outputs, conv_ksize, conv_strides, pool_ksize, pool_strides)\n",
    "\n",
    "    # Layer 2\n",
    "    conv2d_layer2 = conv2d_maxpool(conv2d_layer,conv_num_outputs, conv_ksize, conv_strides, pool_ksize, pool_strides)\n",
    "    \n",
    "    # Layer 3\n",
    "    conv2d_layer3 = conv2d_maxpool(conv2d_layer2,conv_num_outputs, conv_ksize, conv_strides, pool_ksize, pool_strides)\n",
    "\n",
    "    \n",
    "    # TODO: Apply a Flatten Layer\n",
    "    # Function Definition from Above:\n",
    "    #   flatten(x_tensor)\n",
    "    flatten_layer = flatten(conv2d_layer3)\n",
    "    #flat_layer_kp = tf.nn.dropout(flatten_layer, keep_prob)  # don't include this between layers as accuracy stays low.\n",
    "    \n",
    "\n",
    "    # TODO: Apply 1, 2, or 3 Fully Connected Layers\n",
    "    #    Play around with different number of outputs\n",
    "    # Function Definition from Above:\n",
    "    #   fully_conn(x_tensor, num_outputs)\n",
    "    fully_connected1 = fully_conn(flatten_layer, 64)\n",
    "    fully_connected_kp = tf.nn.dropout(fully_connected1, tf.to_float(keep_prob))\n",
    "    fully_connected2 = fully_conn(fully_connected_kp, 32)\n",
    "    fully_connected3 = fully_conn(fully_connected2, 16)\n",
    "    \n",
    "    # TODO: Apply an Output Layer\n",
    "    #    Set this to the number of classes\n",
    "    # Function Definition from Above:\n",
    "    #   output(x_tensor, num_outputs)\n",
    "    # TODO: return output\n",
    "    num_outputs = 10\n",
    "    return output(fully_connected_kp, num_outputs)\n",
    "    \n",
    "\n",
    "\"\"\"\n",
    "DON'T MODIFY ANYTHING IN THIS CELL THAT IS BELOW THIS LINE\n",
    "\"\"\"\n",
    "\n",
    "##############################\n",
    "## Build the Neural Network ##\n",
    "##############################\n",
    "\n",
    "# Remove previous weights, bias, inputs, etc..\n",
    "tf.reset_default_graph()\n",
    "\n",
    "# Inputs\n",
    "x = neural_net_image_input((32, 32, 3))\n",
    "y = neural_net_label_input(10)\n",
    "keep_prob = neural_net_keep_prob_input()\n",
    "\n",
    "# Model\n",
    "logits = conv_net(x, keep_prob)\n",
    "\n",
    "# Name logits Tensor, so that is can be loaded from disk after training\n",
    "logits = tf.identity(logits, name='logits')\n",
    "\n",
    "# Loss and Optimizer\n",
    "cost = tf.reduce_mean(tf.nn.softmax_cross_entropy_with_logits(logits=logits, labels=y))\n",
    "optimizer = tf.train.AdamOptimizer().minimize(cost)\n",
    "\n",
    "# Accuracy\n",
    "correct_pred = tf.equal(tf.argmax(logits, 1), tf.argmax(y, 1))\n",
    "accuracy = tf.reduce_mean(tf.cast(correct_pred, tf.float32), name='accuracy')\n",
    "\n",
    "tests.test_conv_net(conv_net)"
   ]
  },
  {
   "cell_type": "markdown",
   "metadata": {
    "deletable": true,
    "editable": true
   },
   "source": [
    "## Train the Neural Network\n",
    "### Single Optimization\n",
    "Implement the function `train_neural_network` to do a single optimization.  The optimization should use `optimizer` to optimize in `session` with a `feed_dict` of the following:\n",
    "* `x` for image input\n",
    "* `y` for labels\n",
    "* `keep_prob` for keep probability for dropout\n",
    "\n",
    "This function will be called for each batch, so `tf.global_variables_initializer()` has already been called.\n",
    "\n",
    "Note: Nothing needs to be returned. This function is only optimizing the neural network."
   ]
  },
  {
   "cell_type": "code",
   "execution_count": 107,
   "metadata": {
    "collapsed": false,
    "deletable": true,
    "editable": true
   },
   "outputs": [
    {
     "name": "stdout",
     "output_type": "stream",
     "text": [
      "Tests Passed\n"
     ]
    }
   ],
   "source": [
    "def train_neural_network(session, optimizer, keep_probability, feature_batch, label_batch):\n",
    "    \"\"\"\n",
    "    Optimize the session on a batch of images and labels\n",
    "    : session: Current TensorFlow session\n",
    "    : optimizer: TensorFlow optimizer function\n",
    "    : keep_probability: keep probability\n",
    "    : feature_batch: Batch of Numpy image data\n",
    "    : label_batch: Batch of Numpy label data\n",
    "    \"\"\"\n",
    "    # TODO: Implement Function\n",
    "    # Run optimization \n",
    "    session.run(optimizer, feed_dict={x: feature_batch, y: label_batch, keep_prob: 0.5})\n",
    "\n",
    "\n",
    "\"\"\"\n",
    "DON'T MODIFY ANYTHING IN THIS CELL THAT IS BELOW THIS LINE\n",
    "\"\"\"\n",
    "tests.test_train_nn(train_neural_network)"
   ]
  },
  {
   "cell_type": "markdown",
   "metadata": {
    "deletable": true,
    "editable": true
   },
   "source": [
    "### Show Stats\n",
    "Implement the function `print_stats` to print loss and validation accuracy.  Use the global variables `valid_features` and `valid_labels` to calculate validation accuracy.  Use a keep probability of `1.0` to calculate the loss and validation accuracy."
   ]
  },
  {
   "cell_type": "code",
   "execution_count": 108,
   "metadata": {
    "collapsed": false,
    "deletable": true,
    "editable": true
   },
   "outputs": [],
   "source": [
    "def print_stats(session, feature_batch, label_batch, cost, accuracy):\n",
    "    \"\"\"\n",
    "    Print information about loss and validation accuracy\n",
    "    : session: Current TensorFlow session\n",
    "    : feature_batch: Batch of Numpy image data\n",
    "    : label_batch: Batch of Numpy label data\n",
    "    : cost: TensorFlow cost function\n",
    "    : accuracy: TensorFlow accuracy function\n",
    "    \"\"\"\n",
    "    # TODO: Implement Function\n",
    "    loss = session.run(cost, feed_dict={\n",
    "                x: feature_batch,\n",
    "                y: label_batch,\n",
    "                keep_prob: 1.})\n",
    "    valid_acc = session.run(accuracy, feed_dict={\n",
    "                x: valid_features,\n",
    "                y: valid_labels,\n",
    "                keep_prob: 1.})\n",
    "    \n",
    "    print('loss', loss, 'accuracy', valid_acc)\n",
    "    \n"
   ]
  },
  {
   "cell_type": "markdown",
   "metadata": {
    "deletable": true,
    "editable": true
   },
   "source": [
    "### Hyperparameters\n",
    "Tune the following parameters:\n",
    "* Set `epochs` to the number of iterations until the network stops learning or start overfitting\n",
    "* Set `batch_size` to the highest number that your machine has memory for.  Most people set them to common sizes of memory:\n",
    " * 64\n",
    " * 128\n",
    " * 256\n",
    " * ...\n",
    "* Set `keep_probability` to the probability of keeping a node using dropout"
   ]
  },
  {
   "cell_type": "code",
   "execution_count": 111,
   "metadata": {
    "collapsed": false,
    "deletable": true,
    "editable": true
   },
   "outputs": [
    {
     "data": {
      "text/plain": [
       "'\\nBatch size is not about memory alone. You would have seen that in most the problem until now batch size is \\nconsidered as one| of the hyper parameters in tuning the network. So, that gives an inituation that changing \\nbatch size does affect the performance.\\n\\nGradient is updated after processing inputs of size batch. If you recollect, gradient will help you in finding \\nthe global minima. If the batch size is too large or it it occupies the complete training data, there is a \\nhigh probablity that you will end in the local minima. If you consider a batch size of one, then it is so noisely. \\nBut if you consider, batch size of 128 or 256, it is better than one but still noiser, when compared to complete \\ntraining data. But this noisiness help to get out local minima. So, pratically batch size are never taken as complete \\ntraining data both for memory and performance reason.\\n'"
      ]
     },
     "execution_count": 111,
     "metadata": {},
     "output_type": "execute_result"
    }
   ],
   "source": [
    "# TODO: Tune Parameters\n",
    "epochs = 60\n",
    "batch_size = 256\n",
    "keep_probability = 0.6 \n",
    "\n",
    "\"\"\"\n",
    "Batch size is not about memory alone. You would have seen that in most the problem until now batch size is \n",
    "considered as one| of the hyper parameters in tuning the network. So, that gives an inituation that changing \n",
    "batch size does affect the performance.\n",
    "\n",
    "Gradient is updated after processing inputs of size batch. If you recollect, gradient will help you in finding \n",
    "the global minima. If the batch size is too large or it it occupies the complete training data, there is a \n",
    "high probablity that you will end in the local minima. If you consider a batch size of one, then it is so noisely. \n",
    "But if you consider, batch size of 128 or 256, it is better than one but still noiser, when compared to complete \n",
    "training data. But this noisiness help to get out local minima. So, pratically batch size are never taken as complete \n",
    "training data both for memory and performance reason.\n",
    "\"\"\""
   ]
  },
  {
   "cell_type": "markdown",
   "metadata": {
    "deletable": true,
    "editable": true
   },
   "source": [
    "### Train on a Single CIFAR-10 Batch\n",
    "Instead of training the neural network on all the CIFAR-10 batches of data, let's use a single batch. This should save time while you iterate on the model to get a better accuracy.  Once the final validation accuracy is 50% or greater, run the model on all the data in the next section."
   ]
  },
  {
   "cell_type": "code",
   "execution_count": 112,
   "metadata": {
    "collapsed": false,
    "deletable": true,
    "editable": true
   },
   "outputs": [
    {
     "name": "stdout",
     "output_type": "stream",
     "text": [
      "Checking the Training on a Single Batch...\n",
      "Epoch  1, CIFAR-10 Batch 1:  loss 3.86733 accuracy 0.091\n",
      "Epoch  2, CIFAR-10 Batch 1:  loss 3.14192 accuracy 0.1328\n",
      "Epoch  3, CIFAR-10 Batch 1:  loss 2.23432 accuracy 0.2038\n",
      "Epoch  4, CIFAR-10 Batch 1:  loss 2.98109 accuracy 0.1794\n",
      "Epoch  5, CIFAR-10 Batch 1:  loss 2.44847 accuracy 0.1874\n",
      "Epoch  6, CIFAR-10 Batch 1:  loss 2.48257 accuracy 0.1562\n",
      "Epoch  7, CIFAR-10 Batch 1:  loss 2.20683 accuracy 0.2204\n",
      "Epoch  8, CIFAR-10 Batch 1:  loss 2.19765 accuracy 0.2732\n",
      "Epoch  9, CIFAR-10 Batch 1:  loss 2.27532 accuracy 0.2862\n",
      "Epoch 10, CIFAR-10 Batch 1:  loss 1.87132 accuracy 0.3222\n",
      "Epoch 11, CIFAR-10 Batch 1:  loss 2.38964 accuracy 0.3028\n",
      "Epoch 12, CIFAR-10 Batch 1:  loss 2.06862 accuracy 0.2254\n",
      "Epoch 13, CIFAR-10 Batch 1:  loss 2.00005 accuracy 0.2972\n",
      "Epoch 14, CIFAR-10 Batch 1:  loss 1.87998 accuracy 0.325\n",
      "Epoch 15, CIFAR-10 Batch 1:  loss 1.75044 accuracy 0.3414\n",
      "Epoch 16, CIFAR-10 Batch 1:  loss 1.6002 accuracy 0.3648\n",
      "Epoch 17, CIFAR-10 Batch 1:  loss 1.51505 accuracy 0.3882\n",
      "Epoch 18, CIFAR-10 Batch 1:  loss 1.36267 accuracy 0.3828\n",
      "Epoch 19, CIFAR-10 Batch 1:  loss 1.31584 accuracy 0.4098\n",
      "Epoch 20, CIFAR-10 Batch 1:  loss 1.19341 accuracy 0.414\n",
      "Epoch 21, CIFAR-10 Batch 1:  loss 1.10506 accuracy 0.4126\n",
      "Epoch 22, CIFAR-10 Batch 1:  loss 1.00119 accuracy 0.4324\n",
      "Epoch 23, CIFAR-10 Batch 1:  loss 1.00924 accuracy 0.4378\n",
      "Epoch 24, CIFAR-10 Batch 1:  loss 0.956495 accuracy 0.4412\n",
      "Epoch 25, CIFAR-10 Batch 1:  loss 0.951425 accuracy 0.4326\n",
      "Epoch 26, CIFAR-10 Batch 1:  loss 0.873861 accuracy 0.4464\n",
      "Epoch 27, CIFAR-10 Batch 1:  loss 0.85885 accuracy 0.4592\n",
      "Epoch 28, CIFAR-10 Batch 1:  loss 0.800006 accuracy 0.4666\n",
      "Epoch 29, CIFAR-10 Batch 1:  loss 0.766417 accuracy 0.457\n",
      "Epoch 30, CIFAR-10 Batch 1:  loss 0.757324 accuracy 0.4546\n",
      "Epoch 31, CIFAR-10 Batch 1:  loss 0.690561 accuracy 0.4678\n",
      "Epoch 32, CIFAR-10 Batch 1:  loss 0.724354 accuracy 0.4658\n",
      "Epoch 33, CIFAR-10 Batch 1:  loss 0.653502 accuracy 0.476\n",
      "Epoch 34, CIFAR-10 Batch 1:  loss 0.626107 accuracy 0.4768\n",
      "Epoch 35, CIFAR-10 Batch 1:  loss 0.614243 accuracy 0.476\n",
      "Epoch 36, CIFAR-10 Batch 1:  loss 0.559638 accuracy 0.484\n",
      "Epoch 37, CIFAR-10 Batch 1:  loss 0.537434 accuracy 0.4766\n",
      "Epoch 38, CIFAR-10 Batch 1:  loss 0.482089 accuracy 0.478\n",
      "Epoch 39, CIFAR-10 Batch 1:  loss 0.470756 accuracy 0.4806\n",
      "Epoch 40, CIFAR-10 Batch 1:  loss 0.476522 accuracy 0.4774\n",
      "Epoch 41, CIFAR-10 Batch 1:  loss 0.462709 accuracy 0.471\n",
      "Epoch 42, CIFAR-10 Batch 1:  loss 0.415869 accuracy 0.4828\n",
      "Epoch 43, CIFAR-10 Batch 1:  loss 0.400236 accuracy 0.4872\n",
      "Epoch 44, CIFAR-10 Batch 1:  loss 0.383405 accuracy 0.48\n",
      "Epoch 45, CIFAR-10 Batch 1:  loss 0.345757 accuracy 0.4768\n",
      "Epoch 46, CIFAR-10 Batch 1:  loss 0.364078 accuracy 0.479\n",
      "Epoch 47, CIFAR-10 Batch 1:  loss 0.375532 accuracy 0.4904\n",
      "Epoch 48, CIFAR-10 Batch 1:  loss 0.395625 accuracy 0.4812\n",
      "Epoch 49, CIFAR-10 Batch 1:  loss 0.392277 accuracy 0.484\n",
      "Epoch 50, CIFAR-10 Batch 1:  loss 0.345491 accuracy 0.4962\n",
      "Epoch 51, CIFAR-10 Batch 1:  loss 0.341351 accuracy 0.4856\n",
      "Epoch 52, CIFAR-10 Batch 1:  loss 0.327383 accuracy 0.4894\n",
      "Epoch 53, CIFAR-10 Batch 1:  loss 0.269863 accuracy 0.4992\n",
      "Epoch 54, CIFAR-10 Batch 1:  loss 0.279894 accuracy 0.4958\n",
      "Epoch 55, CIFAR-10 Batch 1:  loss 0.293801 accuracy 0.489\n",
      "Epoch 56, CIFAR-10 Batch 1:  loss 0.257001 accuracy 0.4982\n",
      "Epoch 57, CIFAR-10 Batch 1:  loss 0.27577 accuracy 0.4886\n",
      "Epoch 58, CIFAR-10 Batch 1:  loss 0.239814 accuracy 0.4932\n",
      "Epoch 59, CIFAR-10 Batch 1:  loss 0.205125 accuracy 0.5026\n",
      "Epoch 60, CIFAR-10 Batch 1:  loss 0.187736 accuracy 0.51\n"
     ]
    }
   ],
   "source": [
    "\"\"\"\n",
    "DON'T MODIFY ANYTHING IN THIS CELL\n",
    "\"\"\"\n",
    "print('Checking the Training on a Single Batch...')\n",
    "with tf.Session() as sess:\n",
    "    # Initializing the variables\n",
    "    sess.run(tf.global_variables_initializer())\n",
    "        # Training cycle\n",
    "    for epoch in range(epochs):\n",
    "        batch_i = 1\n",
    "        for batch_features, batch_labels in helper.load_preprocess_training_batch(batch_i, batch_size):\n",
    "            train_neural_network(sess, optimizer, keep_probability, batch_features, batch_labels)\n",
    "        print('Epoch {:>2}, CIFAR-10 Batch {}:  '.format(epoch + 1, batch_i), end='')\n",
    "        print_stats(sess, batch_features, batch_labels, cost, accuracy)"
   ]
  },
  {
   "cell_type": "markdown",
   "metadata": {
    "deletable": true,
    "editable": true
   },
   "source": [
    "### Fully Train the Model\n",
    "Now that you got a good accuracy with a single CIFAR-10 batch, try it with all five batches."
   ]
  },
  {
   "cell_type": "code",
   "execution_count": 113,
   "metadata": {
    "collapsed": false,
    "deletable": true,
    "editable": true
   },
   "outputs": [
    {
     "name": "stdout",
     "output_type": "stream",
     "text": [
      "Training...\n",
      "Epoch  1, CIFAR-10 Batch 1:  loss 3.3724 accuracy 0.106\n",
      "Epoch  1, CIFAR-10 Batch 2:  loss 3.15751 accuracy 0.1844\n",
      "Epoch  1, CIFAR-10 Batch 3:  loss 3.14799 accuracy 0.2452\n",
      "Epoch  1, CIFAR-10 Batch 4:  loss 3.31699 accuracy 0.2406\n",
      "Epoch  1, CIFAR-10 Batch 5:  loss 3.04592 accuracy 0.2886\n",
      "Epoch  2, CIFAR-10 Batch 1:  loss 2.5598 accuracy 0.2514\n",
      "Epoch  2, CIFAR-10 Batch 2:  loss 2.1873 accuracy 0.2066\n",
      "Epoch  2, CIFAR-10 Batch 3:  loss 1.93565 accuracy 0.2488\n",
      "Epoch  2, CIFAR-10 Batch 4:  loss 1.90767 accuracy 0.3006\n",
      "Epoch  2, CIFAR-10 Batch 5:  loss 1.71798 accuracy 0.3214\n",
      "Epoch  3, CIFAR-10 Batch 1:  loss 1.80913 accuracy 0.3478\n",
      "Epoch  3, CIFAR-10 Batch 2:  loss 1.85659 accuracy 0.377\n",
      "Epoch  3, CIFAR-10 Batch 3:  loss 1.55483 accuracy 0.367\n",
      "Epoch  3, CIFAR-10 Batch 4:  loss 1.5801 accuracy 0.3896\n",
      "Epoch  3, CIFAR-10 Batch 5:  loss 1.48248 accuracy 0.404\n",
      "Epoch  4, CIFAR-10 Batch 1:  loss 1.59023 accuracy 0.3996\n",
      "Epoch  4, CIFAR-10 Batch 2:  loss 1.53193 accuracy 0.4\n",
      "Epoch  4, CIFAR-10 Batch 3:  loss 1.42733 accuracy 0.423\n",
      "Epoch  4, CIFAR-10 Batch 4:  loss 1.41023 accuracy 0.4182\n",
      "Epoch  4, CIFAR-10 Batch 5:  loss 1.35745 accuracy 0.4518\n",
      "Epoch  5, CIFAR-10 Batch 1:  loss 1.41278 accuracy 0.4556\n",
      "Epoch  5, CIFAR-10 Batch 2:  loss 1.35453 accuracy 0.4436\n",
      "Epoch  5, CIFAR-10 Batch 3:  loss 1.2841 accuracy 0.453\n",
      "Epoch  5, CIFAR-10 Batch 4:  loss 1.38291 accuracy 0.4492\n",
      "Epoch  5, CIFAR-10 Batch 5:  loss 1.23908 accuracy 0.4744\n",
      "Epoch  6, CIFAR-10 Batch 1:  loss 1.22337 accuracy 0.4706\n",
      "Epoch  6, CIFAR-10 Batch 2:  loss 1.29578 accuracy 0.466\n",
      "Epoch  6, CIFAR-10 Batch 3:  loss 1.09903 accuracy 0.4798\n",
      "Epoch  6, CIFAR-10 Batch 4:  loss 1.2734 accuracy 0.4794\n",
      "Epoch  6, CIFAR-10 Batch 5:  loss 1.20438 accuracy 0.498\n",
      "Epoch  7, CIFAR-10 Batch 1:  loss 1.11553 accuracy 0.4904\n",
      "Epoch  7, CIFAR-10 Batch 2:  loss 1.2659 accuracy 0.5014\n",
      "Epoch  7, CIFAR-10 Batch 3:  loss 1.01012 accuracy 0.5126\n",
      "Epoch  7, CIFAR-10 Batch 4:  loss 1.15394 accuracy 0.5026\n",
      "Epoch  7, CIFAR-10 Batch 5:  loss 1.11952 accuracy 0.518\n",
      "Epoch  8, CIFAR-10 Batch 1:  loss 1.05904 accuracy 0.5166\n",
      "Epoch  8, CIFAR-10 Batch 2:  loss 1.12045 accuracy 0.5134\n",
      "Epoch  8, CIFAR-10 Batch 3:  loss 0.971352 accuracy 0.5052\n",
      "Epoch  8, CIFAR-10 Batch 4:  loss 1.03856 accuracy 0.5172\n",
      "Epoch  8, CIFAR-10 Batch 5:  loss 1.02886 accuracy 0.5196\n",
      "Epoch  9, CIFAR-10 Batch 1:  loss 1.02633 accuracy 0.5068\n",
      "Epoch  9, CIFAR-10 Batch 2:  loss 1.10007 accuracy 0.5302\n",
      "Epoch  9, CIFAR-10 Batch 3:  loss 0.828231 accuracy 0.532\n",
      "Epoch  9, CIFAR-10 Batch 4:  loss 0.981787 accuracy 0.5342\n",
      "Epoch  9, CIFAR-10 Batch 5:  loss 0.974719 accuracy 0.5418\n",
      "Epoch 10, CIFAR-10 Batch 1:  loss 1.00583 accuracy 0.5188\n",
      "Epoch 10, CIFAR-10 Batch 2:  loss 1.0089 accuracy 0.5304\n",
      "Epoch 10, CIFAR-10 Batch 3:  loss 0.749574 accuracy 0.5436\n",
      "Epoch 10, CIFAR-10 Batch 4:  loss 0.896776 accuracy 0.5476\n",
      "Epoch 10, CIFAR-10 Batch 5:  loss 0.933005 accuracy 0.531\n",
      "Epoch 11, CIFAR-10 Batch 1:  loss 0.968671 accuracy 0.5266\n",
      "Epoch 11, CIFAR-10 Batch 2:  loss 0.89075 accuracy 0.5428\n",
      "Epoch 11, CIFAR-10 Batch 3:  loss 0.73063 accuracy 0.547\n",
      "Epoch 11, CIFAR-10 Batch 4:  loss 0.86603 accuracy 0.5534\n",
      "Epoch 11, CIFAR-10 Batch 5:  loss 0.829703 accuracy 0.5592\n",
      "Epoch 12, CIFAR-10 Batch 1:  loss 0.837499 accuracy 0.5472\n",
      "Epoch 12, CIFAR-10 Batch 2:  loss 0.896927 accuracy 0.5408\n",
      "Epoch 12, CIFAR-10 Batch 3:  loss 0.723217 accuracy 0.5584\n",
      "Epoch 12, CIFAR-10 Batch 4:  loss 0.765305 accuracy 0.564\n",
      "Epoch 12, CIFAR-10 Batch 5:  loss 0.794347 accuracy 0.5674\n",
      "Epoch 13, CIFAR-10 Batch 1:  loss 0.73825 accuracy 0.5426\n",
      "Epoch 13, CIFAR-10 Batch 2:  loss 0.820684 accuracy 0.5498\n",
      "Epoch 13, CIFAR-10 Batch 3:  loss 0.648661 accuracy 0.571\n",
      "Epoch 13, CIFAR-10 Batch 4:  loss 0.731121 accuracy 0.5586\n",
      "Epoch 13, CIFAR-10 Batch 5:  loss 0.73484 accuracy 0.5744\n",
      "Epoch 14, CIFAR-10 Batch 1:  loss 0.688928 accuracy 0.561\n",
      "Epoch 14, CIFAR-10 Batch 2:  loss 0.727854 accuracy 0.5614\n",
      "Epoch 14, CIFAR-10 Batch 3:  loss 0.586913 accuracy 0.568\n",
      "Epoch 14, CIFAR-10 Batch 4:  loss 0.641049 accuracy 0.5684\n",
      "Epoch 14, CIFAR-10 Batch 5:  loss 0.654635 accuracy 0.5764\n",
      "Epoch 15, CIFAR-10 Batch 1:  loss 0.65621 accuracy 0.5656\n",
      "Epoch 15, CIFAR-10 Batch 2:  loss 0.742969 accuracy 0.5612\n",
      "Epoch 15, CIFAR-10 Batch 3:  loss 0.515434 accuracy 0.5722\n",
      "Epoch 15, CIFAR-10 Batch 4:  loss 0.641244 accuracy 0.5798\n",
      "Epoch 15, CIFAR-10 Batch 5:  loss 0.669176 accuracy 0.5826\n",
      "Epoch 16, CIFAR-10 Batch 1:  loss 0.614521 accuracy 0.5698\n",
      "Epoch 16, CIFAR-10 Batch 2:  loss 0.688464 accuracy 0.5772\n",
      "Epoch 16, CIFAR-10 Batch 3:  loss 0.499664 accuracy 0.5772\n",
      "Epoch 16, CIFAR-10 Batch 4:  loss 0.641041 accuracy 0.5826\n",
      "Epoch 16, CIFAR-10 Batch 5:  loss 0.581579 accuracy 0.5828\n",
      "Epoch 17, CIFAR-10 Batch 1:  loss 0.654479 accuracy 0.5626\n",
      "Epoch 17, CIFAR-10 Batch 2:  loss 0.679375 accuracy 0.5656\n",
      "Epoch 17, CIFAR-10 Batch 3:  loss 0.445548 accuracy 0.5884\n",
      "Epoch 17, CIFAR-10 Batch 4:  loss 0.618913 accuracy 0.591\n",
      "Epoch 17, CIFAR-10 Batch 5:  loss 0.522798 accuracy 0.5826\n",
      "Epoch 18, CIFAR-10 Batch 1:  loss 0.520391 accuracy 0.588\n",
      "Epoch 18, CIFAR-10 Batch 2:  loss 0.570382 accuracy 0.5776\n",
      "Epoch 18, CIFAR-10 Batch 3:  loss 0.408106 accuracy 0.5838\n",
      "Epoch 18, CIFAR-10 Batch 4:  loss 0.569284 accuracy 0.5944\n",
      "Epoch 18, CIFAR-10 Batch 5:  loss 0.469823 accuracy 0.5968\n",
      "Epoch 19, CIFAR-10 Batch 1:  loss 0.559982 accuracy 0.5854\n",
      "Epoch 19, CIFAR-10 Batch 2:  loss 0.541833 accuracy 0.587\n",
      "Epoch 19, CIFAR-10 Batch 3:  loss 0.338925 accuracy 0.587\n",
      "Epoch 19, CIFAR-10 Batch 4:  loss 0.529906 accuracy 0.5982\n",
      "Epoch 19, CIFAR-10 Batch 5:  loss 0.411006 accuracy 0.5898\n",
      "Epoch 20, CIFAR-10 Batch 1:  loss 0.578722 accuracy 0.5904\n",
      "Epoch 20, CIFAR-10 Batch 2:  loss 0.480303 accuracy 0.5952\n",
      "Epoch 20, CIFAR-10 Batch 3:  loss 0.338142 accuracy 0.6006\n",
      "Epoch 20, CIFAR-10 Batch 4:  loss 0.472738 accuracy 0.5948\n",
      "Epoch 20, CIFAR-10 Batch 5:  loss 0.367667 accuracy 0.601\n",
      "Epoch 21, CIFAR-10 Batch 1:  loss 0.558538 accuracy 0.5894\n",
      "Epoch 21, CIFAR-10 Batch 2:  loss 0.491901 accuracy 0.5942\n",
      "Epoch 21, CIFAR-10 Batch 3:  loss 0.318144 accuracy 0.6008\n",
      "Epoch 21, CIFAR-10 Batch 4:  loss 0.459894 accuracy 0.5942\n",
      "Epoch 21, CIFAR-10 Batch 5:  loss 0.322226 accuracy 0.6092\n",
      "Epoch 22, CIFAR-10 Batch 1:  loss 0.54684 accuracy 0.581\n",
      "Epoch 22, CIFAR-10 Batch 2:  loss 0.468935 accuracy 0.6052\n",
      "Epoch 22, CIFAR-10 Batch 3:  loss 0.332947 accuracy 0.5998\n",
      "Epoch 22, CIFAR-10 Batch 4:  loss 0.4684 accuracy 0.6044\n",
      "Epoch 22, CIFAR-10 Batch 5:  loss 0.329841 accuracy 0.6182\n",
      "Epoch 23, CIFAR-10 Batch 1:  loss 0.482017 accuracy 0.5974\n",
      "Epoch 23, CIFAR-10 Batch 2:  loss 0.440792 accuracy 0.5942\n",
      "Epoch 23, CIFAR-10 Batch 3:  loss 0.273534 accuracy 0.6064\n",
      "Epoch 23, CIFAR-10 Batch 4:  loss 0.456042 accuracy 0.6148\n",
      "Epoch 23, CIFAR-10 Batch 5:  loss 0.295145 accuracy 0.6134\n",
      "Epoch 24, CIFAR-10 Batch 1:  loss 0.485277 accuracy 0.602\n",
      "Epoch 24, CIFAR-10 Batch 2:  loss 0.38077 accuracy 0.5966\n",
      "Epoch 24, CIFAR-10 Batch 3:  loss 0.302914 accuracy 0.6044\n",
      "Epoch 24, CIFAR-10 Batch 4:  loss 0.408614 accuracy 0.6102\n",
      "Epoch 24, CIFAR-10 Batch 5:  loss 0.276565 accuracy 0.6096\n",
      "Epoch 25, CIFAR-10 Batch 1:  loss 0.388725 accuracy 0.5912\n",
      "Epoch 25, CIFAR-10 Batch 2:  loss 0.420039 accuracy 0.5668\n",
      "Epoch 25, CIFAR-10 Batch 3:  loss 0.234622 accuracy 0.6024\n",
      "Epoch 25, CIFAR-10 Batch 4:  loss 0.371286 accuracy 0.6154\n",
      "Epoch 25, CIFAR-10 Batch 5:  loss 0.275181 accuracy 0.6066\n",
      "Epoch 26, CIFAR-10 Batch 1:  loss 0.361544 accuracy 0.5758\n",
      "Epoch 26, CIFAR-10 Batch 2:  loss 0.36135 accuracy 0.5924\n",
      "Epoch 26, CIFAR-10 Batch 3:  loss 0.25182 accuracy 0.6058\n",
      "Epoch 26, CIFAR-10 Batch 4:  loss 0.393477 accuracy 0.6224\n",
      "Epoch 26, CIFAR-10 Batch 5:  loss 0.217573 accuracy 0.613\n",
      "Epoch 27, CIFAR-10 Batch 1:  loss 0.375175 accuracy 0.5926\n",
      "Epoch 27, CIFAR-10 Batch 2:  loss 0.359355 accuracy 0.5904\n",
      "Epoch 27, CIFAR-10 Batch 3:  loss 0.246081 accuracy 0.6074\n",
      "Epoch 27, CIFAR-10 Batch 4:  loss 0.378475 accuracy 0.6104\n",
      "Epoch 27, CIFAR-10 Batch 5:  loss 0.245798 accuracy 0.6062\n",
      "Epoch 28, CIFAR-10 Batch 1:  loss 0.313719 accuracy 0.5906\n",
      "Epoch 28, CIFAR-10 Batch 2:  loss 0.3235 accuracy 0.5826\n",
      "Epoch 28, CIFAR-10 Batch 3:  loss 0.207914 accuracy 0.615\n",
      "Epoch 28, CIFAR-10 Batch 4:  loss 0.351156 accuracy 0.6204\n",
      "Epoch 28, CIFAR-10 Batch 5:  loss 0.220938 accuracy 0.6028\n",
      "Epoch 29, CIFAR-10 Batch 1:  loss 0.285279 accuracy 0.5996\n",
      "Epoch 29, CIFAR-10 Batch 2:  loss 0.283004 accuracy 0.6046\n",
      "Epoch 29, CIFAR-10 Batch 3:  loss 0.227957 accuracy 0.6068\n",
      "Epoch 29, CIFAR-10 Batch 4:  loss 0.353883 accuracy 0.6274\n",
      "Epoch 29, CIFAR-10 Batch 5:  loss 0.179843 accuracy 0.6042\n",
      "Epoch 30, CIFAR-10 Batch 1:  loss 0.351965 accuracy 0.5916\n",
      "Epoch 30, CIFAR-10 Batch 2:  loss 0.312647 accuracy 0.6044\n",
      "Epoch 30, CIFAR-10 Batch 3:  loss 0.234858 accuracy 0.605\n",
      "Epoch 30, CIFAR-10 Batch 4:  loss 0.317815 accuracy 0.6114\n",
      "Epoch 30, CIFAR-10 Batch 5:  loss 0.178741 accuracy 0.6052\n",
      "Epoch 31, CIFAR-10 Batch 1:  loss 0.283418 accuracy 0.595\n",
      "Epoch 31, CIFAR-10 Batch 2:  loss 0.270911 accuracy 0.5928\n",
      "Epoch 31, CIFAR-10 Batch 3:  loss 0.194925 accuracy 0.6082\n",
      "Epoch 31, CIFAR-10 Batch 4:  loss 0.279143 accuracy 0.6016\n",
      "Epoch 31, CIFAR-10 Batch 5:  loss 0.186428 accuracy 0.5998\n",
      "Epoch 32, CIFAR-10 Batch 1:  loss 0.300649 accuracy 0.5904\n",
      "Epoch 32, CIFAR-10 Batch 2:  loss 0.247296 accuracy 0.5994\n",
      "Epoch 32, CIFAR-10 Batch 3:  loss 0.239369 accuracy 0.585\n",
      "Epoch 32, CIFAR-10 Batch 4:  loss 0.310474 accuracy 0.6194\n",
      "Epoch 32, CIFAR-10 Batch 5:  loss 0.158689 accuracy 0.6032\n",
      "Epoch 33, CIFAR-10 Batch 1:  loss 0.279511 accuracy 0.6156\n",
      "Epoch 33, CIFAR-10 Batch 2:  loss 0.299737 accuracy 0.5626\n",
      "Epoch 33, CIFAR-10 Batch 3:  loss 0.222231 accuracy 0.5748\n",
      "Epoch 33, CIFAR-10 Batch 4:  loss 0.316939 accuracy 0.6134\n",
      "Epoch 33, CIFAR-10 Batch 5:  loss 0.160259 accuracy 0.6178\n",
      "Epoch 34, CIFAR-10 Batch 1:  loss 0.243217 accuracy 0.6038\n",
      "Epoch 34, CIFAR-10 Batch 2:  loss 0.241861 accuracy 0.5926\n",
      "Epoch 34, CIFAR-10 Batch 3:  loss 0.17358 accuracy 0.5992\n",
      "Epoch 34, CIFAR-10 Batch 4:  loss 0.257979 accuracy 0.6186\n",
      "Epoch 34, CIFAR-10 Batch 5:  loss 0.143781 accuracy 0.6182\n",
      "Epoch 35, CIFAR-10 Batch 1:  loss 0.200611 accuracy 0.6152\n",
      "Epoch 35, CIFAR-10 Batch 2:  loss 0.224437 accuracy 0.602\n",
      "Epoch 35, CIFAR-10 Batch 3:  loss 0.168253 accuracy 0.602\n",
      "Epoch 35, CIFAR-10 Batch 4:  loss 0.278173 accuracy 0.6214\n",
      "Epoch 35, CIFAR-10 Batch 5:  loss 0.143692 accuracy 0.6106\n",
      "Epoch 36, CIFAR-10 Batch 1:  loss 0.192696 accuracy 0.6072\n",
      "Epoch 36, CIFAR-10 Batch 2:  loss 0.220678 accuracy 0.61\n",
      "Epoch 36, CIFAR-10 Batch 3:  loss 0.16286 accuracy 0.5918\n",
      "Epoch 36, CIFAR-10 Batch 4:  loss 0.238552 accuracy 0.622\n",
      "Epoch 36, CIFAR-10 Batch 5:  loss 0.121539 accuracy 0.6168\n",
      "Epoch 37, CIFAR-10 Batch 1:  loss 0.194206 accuracy 0.6014\n",
      "Epoch 37, CIFAR-10 Batch 2:  loss 0.24485 accuracy 0.5892\n",
      "Epoch 37, CIFAR-10 Batch 3:  loss 0.139705 accuracy 0.6092\n",
      "Epoch 37, CIFAR-10 Batch 4:  loss 0.221179 accuracy 0.6198\n",
      "Epoch 37, CIFAR-10 Batch 5:  loss 0.117349 accuracy 0.6166\n",
      "Epoch 38, CIFAR-10 Batch 1:  loss 0.207817 accuracy 0.6168\n",
      "Epoch 38, CIFAR-10 Batch 2:  loss 0.25601 accuracy 0.5868\n",
      "Epoch 38, CIFAR-10 Batch 3:  loss 0.111725 accuracy 0.619\n",
      "Epoch 38, CIFAR-10 Batch 4:  loss 0.19236 accuracy 0.6032\n",
      "Epoch 38, CIFAR-10 Batch 5:  loss 0.123594 accuracy 0.6054\n",
      "Epoch 39, CIFAR-10 Batch 1:  loss 0.196726 accuracy 0.6132\n",
      "Epoch 39, CIFAR-10 Batch 2:  loss 0.21512 accuracy 0.604\n",
      "Epoch 39, CIFAR-10 Batch 3:  loss 0.117873 accuracy 0.6192\n",
      "Epoch 39, CIFAR-10 Batch 4:  loss 0.21077 accuracy 0.6058\n",
      "Epoch 39, CIFAR-10 Batch 5:  loss 0.0963297 accuracy 0.613\n",
      "Epoch 40, CIFAR-10 Batch 1:  loss 0.184323 accuracy 0.6104\n",
      "Epoch 40, CIFAR-10 Batch 2:  loss 0.205014 accuracy 0.6058\n",
      "Epoch 40, CIFAR-10 Batch 3:  loss 0.0867704 accuracy 0.6156\n",
      "Epoch 40, CIFAR-10 Batch 4:  loss 0.185368 accuracy 0.5918\n",
      "Epoch 40, CIFAR-10 Batch 5:  loss 0.102188 accuracy 0.6012\n",
      "Epoch 41, CIFAR-10 Batch 1:  loss 0.197654 accuracy 0.6118\n",
      "Epoch 41, CIFAR-10 Batch 2:  loss 0.204133 accuracy 0.6018\n",
      "Epoch 41, CIFAR-10 Batch 3:  loss 0.0970224 accuracy 0.6142\n",
      "Epoch 41, CIFAR-10 Batch 4:  loss 0.165487 accuracy 0.6036\n",
      "Epoch 41, CIFAR-10 Batch 5:  loss 0.110682 accuracy 0.6058\n",
      "Epoch 42, CIFAR-10 Batch 1:  loss 0.21244 accuracy 0.609\n",
      "Epoch 42, CIFAR-10 Batch 2:  loss 0.212274 accuracy 0.5782\n",
      "Epoch 42, CIFAR-10 Batch 3:  loss 0.108914 accuracy 0.615\n",
      "Epoch 42, CIFAR-10 Batch 4:  loss 0.209833 accuracy 0.5988\n",
      "Epoch 42, CIFAR-10 Batch 5:  loss 0.127586 accuracy 0.5968\n",
      "Epoch 43, CIFAR-10 Batch 1:  loss 0.182307 accuracy 0.6112\n",
      "Epoch 43, CIFAR-10 Batch 2:  loss 0.259236 accuracy 0.5782\n",
      "Epoch 43, CIFAR-10 Batch 3:  loss 0.130066 accuracy 0.6078\n",
      "Epoch 43, CIFAR-10 Batch 4:  loss 0.153036 accuracy 0.6014\n",
      "Epoch 43, CIFAR-10 Batch 5:  loss 0.13072 accuracy 0.5958\n",
      "Epoch 44, CIFAR-10 Batch 1:  loss 0.198327 accuracy 0.596\n",
      "Epoch 44, CIFAR-10 Batch 2:  loss 0.181203 accuracy 0.6012\n",
      "Epoch 44, CIFAR-10 Batch 3:  loss 0.112607 accuracy 0.6174\n",
      "Epoch 44, CIFAR-10 Batch 4:  loss 0.16451 accuracy 0.5906\n",
      "Epoch 44, CIFAR-10 Batch 5:  loss 0.137174 accuracy 0.605\n",
      "Epoch 45, CIFAR-10 Batch 1:  loss 0.176352 accuracy 0.5904\n",
      "Epoch 45, CIFAR-10 Batch 2:  loss 0.162966 accuracy 0.607\n",
      "Epoch 45, CIFAR-10 Batch 3:  loss 0.0945768 accuracy 0.6122\n",
      "Epoch 45, CIFAR-10 Batch 4:  loss 0.111462 accuracy 0.5952\n",
      "Epoch 45, CIFAR-10 Batch 5:  loss 0.13539 accuracy 0.5998\n",
      "Epoch 46, CIFAR-10 Batch 1:  loss 0.138115 accuracy 0.6048\n",
      "Epoch 46, CIFAR-10 Batch 2:  loss 0.145914 accuracy 0.6042\n",
      "Epoch 46, CIFAR-10 Batch 3:  loss 0.0852291 accuracy 0.6146\n",
      "Epoch 46, CIFAR-10 Batch 4:  loss 0.113666 accuracy 0.6074\n",
      "Epoch 46, CIFAR-10 Batch 5:  loss 0.0971701 accuracy 0.6032\n",
      "Epoch 47, CIFAR-10 Batch 1:  loss 0.110729 accuracy 0.6126\n",
      "Epoch 47, CIFAR-10 Batch 2:  loss 0.115341 accuracy 0.6034\n",
      "Epoch 47, CIFAR-10 Batch 3:  loss 0.0955771 accuracy 0.6098\n",
      "Epoch 47, CIFAR-10 Batch 4:  loss 0.105914 accuracy 0.587\n",
      "Epoch 47, CIFAR-10 Batch 5:  loss 0.120987 accuracy 0.605\n",
      "Epoch 48, CIFAR-10 Batch 1:  loss 0.117393 accuracy 0.6112\n",
      "Epoch 48, CIFAR-10 Batch 2:  loss 0.0907938 accuracy 0.5942\n",
      "Epoch 48, CIFAR-10 Batch 3:  loss 0.081902 accuracy 0.6066\n",
      "Epoch 48, CIFAR-10 Batch 4:  loss 0.115077 accuracy 0.5888\n",
      "Epoch 48, CIFAR-10 Batch 5:  loss 0.105067 accuracy 0.6086\n",
      "Epoch 49, CIFAR-10 Batch 1:  loss 0.121612 accuracy 0.6046\n",
      "Epoch 49, CIFAR-10 Batch 2:  loss 0.0823991 accuracy 0.6014\n",
      "Epoch 49, CIFAR-10 Batch 3:  loss 0.0879422 accuracy 0.6154\n",
      "Epoch 49, CIFAR-10 Batch 4:  loss 0.106789 accuracy 0.594\n",
      "Epoch 49, CIFAR-10 Batch 5:  loss 0.0976901 accuracy 0.603\n",
      "Epoch 50, CIFAR-10 Batch 1:  loss 0.118799 accuracy 0.603\n",
      "Epoch 50, CIFAR-10 Batch 2:  loss 0.077043 accuracy 0.6056\n",
      "Epoch 50, CIFAR-10 Batch 3:  loss 0.0662983 accuracy 0.609\n",
      "Epoch 50, CIFAR-10 Batch 4:  loss 0.101562 accuracy 0.6124\n",
      "Epoch 50, CIFAR-10 Batch 5:  loss 0.0752538 accuracy 0.609\n",
      "Epoch 51, CIFAR-10 Batch 1:  loss 0.0958218 accuracy 0.5984\n",
      "Epoch 51, CIFAR-10 Batch 2:  loss 0.0991646 accuracy 0.6068\n",
      "Epoch 51, CIFAR-10 Batch 3:  loss 0.0572629 accuracy 0.6106\n",
      "Epoch 51, CIFAR-10 Batch 4:  loss 0.0918509 accuracy 0.5966\n",
      "Epoch 51, CIFAR-10 Batch 5:  loss 0.084221 accuracy 0.609\n",
      "Epoch 52, CIFAR-10 Batch 1:  loss 0.143226 accuracy 0.585\n",
      "Epoch 52, CIFAR-10 Batch 2:  loss 0.0902337 accuracy 0.6098\n",
      "Epoch 52, CIFAR-10 Batch 3:  loss 0.0556303 accuracy 0.608\n",
      "Epoch 52, CIFAR-10 Batch 4:  loss 0.0966299 accuracy 0.6074\n",
      "Epoch 52, CIFAR-10 Batch 5:  loss 0.0812915 accuracy 0.6094\n",
      "Epoch 53, CIFAR-10 Batch 1:  loss 0.0741759 accuracy 0.5864\n",
      "Epoch 53, CIFAR-10 Batch 2:  loss 0.123438 accuracy 0.603\n",
      "Epoch 53, CIFAR-10 Batch 3:  loss 0.0539471 accuracy 0.6108\n",
      "Epoch 53, CIFAR-10 Batch 4:  loss 0.0967401 accuracy 0.5966\n",
      "Epoch 53, CIFAR-10 Batch 5:  loss 0.0702991 accuracy 0.6138\n",
      "Epoch 54, CIFAR-10 Batch 1:  loss 0.106602 accuracy 0.5844\n",
      "Epoch 54, CIFAR-10 Batch 2:  loss 0.119284 accuracy 0.5944\n",
      "Epoch 54, CIFAR-10 Batch 3:  loss 0.0587138 accuracy 0.616\n",
      "Epoch 54, CIFAR-10 Batch 4:  loss 0.108731 accuracy 0.5868\n",
      "Epoch 54, CIFAR-10 Batch 5:  loss 0.0611927 accuracy 0.598\n",
      "Epoch 55, CIFAR-10 Batch 1:  loss 0.0520836 accuracy 0.5898\n",
      "Epoch 55, CIFAR-10 Batch 2:  loss 0.131889 accuracy 0.6006\n",
      "Epoch 55, CIFAR-10 Batch 3:  loss 0.0607165 accuracy 0.6154\n",
      "Epoch 55, CIFAR-10 Batch 4:  loss 0.0734949 accuracy 0.5852\n",
      "Epoch 55, CIFAR-10 Batch 5:  loss 0.0560494 accuracy 0.6028\n",
      "Epoch 56, CIFAR-10 Batch 1:  loss 0.0560955 accuracy 0.593\n",
      "Epoch 56, CIFAR-10 Batch 2:  loss 0.113207 accuracy 0.5888\n",
      "Epoch 56, CIFAR-10 Batch 3:  loss 0.0668931 accuracy 0.6012\n",
      "Epoch 56, CIFAR-10 Batch 4:  loss 0.0744826 accuracy 0.5726\n",
      "Epoch 56, CIFAR-10 Batch 5:  loss 0.0564277 accuracy 0.6094\n",
      "Epoch 57, CIFAR-10 Batch 1:  loss 0.102978 accuracy 0.6034\n",
      "Epoch 57, CIFAR-10 Batch 2:  loss 0.144004 accuracy 0.5912\n",
      "Epoch 57, CIFAR-10 Batch 3:  loss 0.0409669 accuracy 0.6136\n",
      "Epoch 57, CIFAR-10 Batch 4:  loss 0.0641984 accuracy 0.5902\n",
      "Epoch 57, CIFAR-10 Batch 5:  loss 0.077356 accuracy 0.5992\n",
      "Epoch 58, CIFAR-10 Batch 1:  loss 0.0706083 accuracy 0.6012\n",
      "Epoch 58, CIFAR-10 Batch 2:  loss 0.11755 accuracy 0.6036\n",
      "Epoch 58, CIFAR-10 Batch 3:  loss 0.0578863 accuracy 0.6154\n",
      "Epoch 58, CIFAR-10 Batch 4:  loss 0.100259 accuracy 0.59\n",
      "Epoch 58, CIFAR-10 Batch 5:  loss 0.0639214 accuracy 0.5954\n",
      "Epoch 59, CIFAR-10 Batch 1:  loss 0.0496068 accuracy 0.6086\n",
      "Epoch 59, CIFAR-10 Batch 2:  loss 0.108797 accuracy 0.5842\n",
      "Epoch 59, CIFAR-10 Batch 3:  loss 0.043703 accuracy 0.6132\n",
      "Epoch 59, CIFAR-10 Batch 4:  loss 0.0939253 accuracy 0.6028\n",
      "Epoch 59, CIFAR-10 Batch 5:  loss 0.0570272 accuracy 0.6048\n",
      "Epoch 60, CIFAR-10 Batch 1:  loss 0.0511481 accuracy 0.6094\n",
      "Epoch 60, CIFAR-10 Batch 2:  loss 0.143961 accuracy 0.5944\n",
      "Epoch 60, CIFAR-10 Batch 3:  loss 0.066271 accuracy 0.6102\n",
      "Epoch 60, CIFAR-10 Batch 4:  loss 0.0670528 accuracy 0.6038\n",
      "Epoch 60, CIFAR-10 Batch 5:  loss 0.0809432 accuracy 0.5894\n"
     ]
    }
   ],
   "source": [
    "\"\"\"\n",
    "DON'T MODIFY ANYTHING IN THIS CELL\n",
    "\"\"\"\n",
    "save_model_path = './image_classification'\n",
    "\n",
    "print('Training...')\n",
    "with tf.Session() as sess:\n",
    "    # Initializing the variables\n",
    "    sess.run(tf.global_variables_initializer())\n",
    "    \n",
    "    # Training cycle\n",
    "    for epoch in range(epochs):\n",
    "        # Loop over all batches\n",
    "        n_batches = 5\n",
    "        for batch_i in range(1, n_batches + 1):\n",
    "            for batch_features, batch_labels in helper.load_preprocess_training_batch(batch_i, batch_size):\n",
    "                train_neural_network(sess, optimizer, keep_probability, batch_features, batch_labels)\n",
    "            print('Epoch {:>2}, CIFAR-10 Batch {}:  '.format(epoch + 1, batch_i), end='')\n",
    "            print_stats(sess, batch_features, batch_labels, cost, accuracy)\n",
    "            \n",
    "    # Save Model\n",
    "    saver = tf.train.Saver()\n",
    "    save_path = saver.save(sess, save_model_path)"
   ]
  },
  {
   "cell_type": "markdown",
   "metadata": {
    "deletable": true,
    "editable": true
   },
   "source": [
    "# Checkpoint\n",
    "The model has been saved to disk.\n",
    "## Test Model\n",
    "Test your model against the test dataset.  This will be your final accuracy. You should have an accuracy greater than 50%. If you don't, keep tweaking the model architecture and parameters."
   ]
  },
  {
   "cell_type": "code",
   "execution_count": 114,
   "metadata": {
    "collapsed": false,
    "deletable": true,
    "editable": true
   },
   "outputs": [
    {
     "name": "stdout",
     "output_type": "stream",
     "text": [
      "Testing Accuracy: 0.58984375\n",
      "\n"
     ]
    },
    {
     "data": {
      "image/png": "[encoded data removed]",
      "text/plain": [
       "<matplotlib.figure.Figure at 0x7f066c03c8d0>"
      ]
     },
     "metadata": {
      "image/png": {
       "height": 319,
       "width": 355
      }
     },
     "output_type": "display_data"
    }
   ],
   "source": [
    "\"\"\"\n",
    "DON'T MODIFY ANYTHING IN THIS CELL\n",
    "\"\"\"\n",
    "%matplotlib inline\n",
    "%config InlineBackend.figure_format = 'retina'\n",
    "\n",
    "import tensorflow as tf\n",
    "import pickle\n",
    "import helper\n",
    "import random\n",
    "\n",
    "# Set batch size if not already set\n",
    "try:\n",
    "    if batch_size:\n",
    "        pass\n",
    "except NameError:\n",
    "    batch_size = 64\n",
    "\n",
    "save_model_path = './image_classification'\n",
    "n_samples = 4\n",
    "top_n_predictions = 3\n",
    "\n",
    "def test_model():\n",
    "    \"\"\"\n",
    "    Test the saved model against the test dataset\n",
    "    \"\"\"\n",
    "\n",
    "    test_features, test_labels = pickle.load(open('preprocess_training.p', mode='rb'))\n",
    "    loaded_graph = tf.Graph()\n",
    "\n",
    "    with tf.Session(graph=loaded_graph) as sess:\n",
    "        # Load model\n",
    "        loader = tf.train.import_meta_graph(save_model_path + '.meta')\n",
    "        loader.restore(sess, save_model_path)\n",
    "\n",
    "        # Get Tensors from loaded model\n",
    "        loaded_x = loaded_graph.get_tensor_by_name('x:0')\n",
    "        loaded_y = loaded_graph.get_tensor_by_name('y:0')\n",
    "        loaded_keep_prob = loaded_graph.get_tensor_by_name('keep_prob:0')\n",
    "        loaded_logits = loaded_graph.get_tensor_by_name('logits:0')\n",
    "        loaded_acc = loaded_graph.get_tensor_by_name('accuracy:0')\n",
    "        \n",
    "        # Get accuracy in batches for memory limitations\n",
    "        test_batch_acc_total = 0\n",
    "        test_batch_count = 0\n",
    "        \n",
    "        for train_feature_batch, train_label_batch in helper.batch_features_labels(test_features, test_labels, batch_size):\n",
    "            test_batch_acc_total += sess.run(\n",
    "                loaded_acc,\n",
    "                feed_dict={loaded_x: train_feature_batch, loaded_y: train_label_batch, loaded_keep_prob: 1.0})\n",
    "            test_batch_count += 1\n",
    "\n",
    "        print('Testing Accuracy: {}\\n'.format(test_batch_acc_total/test_batch_count))\n",
    "\n",
    "        # Print Random Samples\n",
    "        random_test_features, random_test_labels = tuple(zip(*random.sample(list(zip(test_features, test_labels)), n_samples)))\n",
    "        random_test_predictions = sess.run(\n",
    "            tf.nn.top_k(tf.nn.softmax(loaded_logits), top_n_predictions),\n",
    "            feed_dict={loaded_x: random_test_features, loaded_y: random_test_labels, loaded_keep_prob: 1.0})\n",
    "        helper.display_image_predictions(random_test_features, random_test_labels, random_test_predictions)\n",
    "\n",
    "\n",
    "test_model()"
   ]
  },
  {
   "cell_type": "markdown",
   "metadata": {
    "deletable": true,
    "editable": true
   },
   "source": [
    "## Why 50-70% Accuracy?\n",
    "You might be wondering why you can't get an accuracy any higher. First things first, 50% isn't bad for a simple CNN.  Pure guessing would get you 10% accuracy. However, you might notice people are getting scores [well above 70%](http://rodrigob.github.io/are_we_there_yet/build/classification_datasets_results.html#43494641522d3130).  That's because we haven't taught you all there is to know about neural networks. We still need to cover a few more techniques.\n",
    "## Submitting This Project\n",
    "When submitting this project, make sure to run all the cells before saving the notebook.  Save the notebook file as \"dlnd_image_classification.ipynb\" and save it as a HTML file under \"File\" -> \"Download as\".  Include the \"helper.py\" and \"problem_unittests.py\" files in your submission."
   ]
  }
 ],
 "metadata": {
  "anaconda-cloud": {},
  "kernelspec": {
   "display_name": "Python 3",
   "language": "python",
   "name": "python3"
  },
  "language_info": {
   "codemirror_mode": {
    "name": "ipython",
    "version": 3
   },
   "file_extension": ".py",
   "mimetype": "text/x-python",
   "name": "python",
   "nbconvert_exporter": "python",
   "pygments_lexer": "ipython3",
   "version": "3.5.2"
  },
  "widgets": {
   "state": {},
   "version": "1.1.2"
  }
 },
 "nbformat": 4,
 "nbformat_minor": 0
}
